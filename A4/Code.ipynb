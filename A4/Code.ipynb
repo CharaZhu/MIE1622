{
 "cells": [
  {
   "cell_type": "code",
   "execution_count": 1,
   "metadata": {
    "id": "u__kG-T18Dlg"
   },
   "outputs": [],
   "source": [
    "from numpy import *\n",
    "from scipy.stats import norm\n",
    "import numpy as np\n",
    "import matplotlib.pyplot as plt\n",
    "\n",
    "# Pricing a European option using Black-Scholes formula and Monte Carlo simulations \n",
    "# Pricing a Barrier option using Monte Carlo simulations\n",
    "\n",
    "S0 = 100     # spot price of the underlying stock today\n",
    "K = 105      # strike at expiry\n",
    "mu = 0.05    # expected return\n",
    "sigma = 0.2  # volatility\n",
    "r = 0.05     # risk-free rate\n",
    "T = 1.0      # years to expiry\n",
    "Sb = 110     # barrier\n",
    "\n",
    "# Complete the following functions\n",
    "\n",
    "def BS_european_price(S0, K, T, r, sigma):\n",
    "    t = 0\n",
    "    d1 = (log(S0/K) + (r+sigma**2/2) * (T-t)) / (sigma*np.sqrt(T-t))\n",
    "    d2 = d1 - sigma * np.sqrt(T-t)\n",
    "\n",
    "    c = norm.cdf(d1)*S0 - norm.cdf(d2)*K*np.exp(-r*(T-t))\n",
    "    p = norm.cdf(-d2)*K*np.exp(-r*(T-t)) - norm.cdf(-d1)*S0\n",
    "      \n",
    "    return c, p\n",
    "\n",
    "def MC_european_price(S0, K, T, r, mu, sigma, numSteps, numPaths):\n",
    "   \n",
    "    paths = np.zeros((numSteps + 1, numPaths))\n",
    "    \n",
    "    # dT is the time increment (in years)\n",
    "    dT = T / numSteps\n",
    "        \n",
    "    # Vector of paths will store realizations of the asset price\n",
    "    # First asset price is the initial price\n",
    "    paths[0] = [S0] * numPaths\n",
    " \n",
    "    # Generate paths\n",
    "    for iPath in range(numPaths):\n",
    "        for iStep in range(numSteps):\n",
    "            paths[iStep + 1, iPath] = paths[iStep, iPath] * np.exp((mu - 0.5 * sigma ** 2) * dT \n",
    "                                                               + sigma * np.sqrt(dT) * np.random.normal(0,1))\n",
    "    \n",
    "    # Calculate the payoff for each path for Call & Put \n",
    "    CallPayoffT = np.maximum(paths[numSteps] - K, 0)\n",
    "    PutPayoffT = np.maximum(K - paths[numSteps], 0)\n",
    "\n",
    "    # Discount back\n",
    "    c  = np.mean(CallPayoffT) * np.exp(-r * T)\n",
    "    p = np.mean(PutPayoffT) * np.exp(-r * T)\n",
    " \n",
    "    return c, p\n",
    "\n",
    "def MC_barrier_knockin_price(S0, Sb, K, T, r, mu, sigma, numSteps, numPaths):\n",
    " \n",
    "    paths = np.zeros((numSteps + 1, numPaths))\n",
    "    \n",
    "    # dT is the time increment (in years)\n",
    "    dT = T / numSteps\n",
    "        \n",
    "    # Vector of paths will store realizations of the asset price\n",
    "    # First asset price is the initial price\n",
    "    paths[0] = [S0] * numPaths\n",
    " \n",
    "    # Generate paths\n",
    "    for iPath in range(numPaths):\n",
    "        for iStep in range(numSteps):\n",
    "            paths[iStep + 1, iPath] = paths[iStep, iPath] * np.exp((mu - 0.5 * sigma ** 2) * dT \n",
    "                                                               + sigma * np.sqrt(dT) * np.random.normal(0,1))\n",
    " \n",
    "    # Calculate the payoff for each path for Call & Put \n",
    "    CallPayoffT = np.maximum(paths[numSteps] - K, 0)\n",
    "    PutPayoffT = np.maximum(K - paths[numSteps], 0)\n",
    "    \n",
    "    # The option becomes a standard option if the barrier was crossed some time before expiration, o/w payoff is zero\n",
    "    a = sum(paths>=Sb,axis=0)\n",
    "    \n",
    "    for iPath in range(numPaths):\n",
    "        # If the barrier was not reached, change payoff to zero\n",
    "        if a[iPath] == 0:\n",
    "            CallPayoffT[iPath] = 0\n",
    "            PutPayoffT[iPath] = 0\n",
    "     \n",
    "    # Discount back\n",
    "    c  = np.mean(CallPayoffT) * np.exp(-r * T)\n",
    "    p = np.mean(PutPayoffT) * np.exp(-r * T)\n",
    "\n",
    "    return c, p "
   ]
  },
  {
   "cell_type": "code",
   "execution_count": 17,
   "metadata": {
    "colab": {
     "base_uri": "https://localhost:8080/"
    },
    "id": "o0Un9zya8Dlq",
    "outputId": "9d9d0d8c-7e1d-4e01-81ef-32ed32e5ac91"
   },
   "outputs": [
    {
     "name": "stdout",
     "output_type": "stream",
     "text": [
      "Black-Scholes price of an European call option is 8.021352235143176\n",
      "Black-Scholes price of an European put option is 7.9004418077181455\n",
      "One-step MC price of an European call option is 8.015212933670396\n",
      "One-step MC price of an European put option is 7.889813108168575\n",
      "Multi-step MC price of an European call option is 8.00196059121057\n",
      "Multi-step MC price of an European put option is 7.915066262365608\n",
      "One-step MC price of an Barrier call option is 7.81502543181406\n",
      "One-step MC price of an Barrier put option is 0.0\n",
      "Multi-step MC price of an Barrier call option is 8.000693483498955\n",
      "Multi-step MC price of an Barrier put option is 2.0157995036943803\n"
     ]
    }
   ],
   "source": [
    "# Define variable numSteps to be the number of steps for multi-step MC\n",
    "# numPaths - number of sample paths used in simulations\n",
    "\n",
    "numSteps = 252\n",
    "numPaths = 1000000\n",
    "\n",
    "# Implement your Black-Scholes pricing formula\n",
    "call_BS_European_Price, putBS_European_Price = BS_european_price(S0, K, T, r, sigma)\n",
    "\n",
    "# Implement your one-step Monte Carlo pricing procedure for European option\n",
    "callMC_European_Price_1_step, putMC_European_Price_1_step = MC_european_price(S0, K, T, r, mu, sigma, 1, numPaths)\n",
    "\n",
    "# Implement your multi-step Monte Carlo pricing procedure for European option\n",
    "callMC_European_Price_multi_step, putMC_European_Price_multi_step = MC_european_price(S0, K, T, r, mu, sigma, numSteps, numPaths)\n",
    " \n",
    "# Implement your one-step Monte Carlo pricing procedure for Barrier option\n",
    "callMC_Barrier_Knockin_Price_1_step, putMC_Barrier_Knockin_Price_1_step =  MC_barrier_knockin_price(S0, Sb, K, T, r, mu, sigma, 1, numPaths)\n",
    " \n",
    "# # Implement your multi-step Monte Carlo pricing procedure for Barrier option\n",
    "callMC_Barrier_Knockin_Price_multi_step, putMC_Barrier_Knockin_Price_multi_step =  MC_barrier_knockin_price(S0, Sb, K, T, r, mu, sigma, numSteps, numPaths)\n",
    " \n",
    "\n",
    "print('Black-Scholes price of an European call option is ' + str(call_BS_European_Price))\n",
    "print('Black-Scholes price of an European put option is ' + str(putBS_European_Price))\n",
    "print('One-step MC price of an European call option is ' + str(callMC_European_Price_1_step)) \n",
    "print('One-step MC price of an European put option is ' + str(putMC_European_Price_1_step)) \n",
    "print('Multi-step MC price of an European call option is ' + str(callMC_European_Price_multi_step)) \n",
    "print('Multi-step MC price of an European put option is ' + str(putMC_European_Price_multi_step)) \n",
    "print('One-step MC price of an Barrier call option is ' + str(callMC_Barrier_Knockin_Price_1_step)) \n",
    "print('One-step MC price of an Barrier put option is ' + str(putMC_Barrier_Knockin_Price_1_step)) \n",
    "print('Multi-step MC price of an Barrier call option is ' + str(callMC_Barrier_Knockin_Price_multi_step)) \n",
    "print('Multi-step MC price of an Barrier put option is ' + str(putMC_Barrier_Knockin_Price_multi_step))"
   ]
  },
  {
   "cell_type": "markdown",
   "metadata": {
    "id": "SMX6FfB2M5dI"
   },
   "source": [
    "Plot one chart in Python that illustrates your Monte Carlo pricing procedure in the best way."
   ]
  },
  {
   "cell_type": "code",
   "execution_count": 22,
   "metadata": {
    "id": "iYiHndH8snS5"
   },
   "outputs": [],
   "source": [
    "# Plot one chart illustrates Monte Carlo pricing procedure in the best way\n",
    "\n",
    "def plot_MC (S0, Sb, K, T, r, mu, sigma, numSteps, numPaths):\n",
    "   \n",
    "    paths = np.zeros((numSteps + 1, numPaths))\n",
    "    \n",
    "    # dT is the time increment (in years)\n",
    "    dT = T / numSteps\n",
    "        \n",
    "    # Vector of paths will store realizations of the asset price\n",
    "    # First asset price is the initial price\n",
    "    paths[0] = [S0] * numPaths\n",
    " \n",
    "    # Generate paths\n",
    "    for iPath in range(numPaths):\n",
    "        for iStep in range(numSteps):\n",
    "            paths[iStep + 1, iPath] = paths[iStep, iPath] * np.exp((mu - 0.5 * sigma ** 2) * dT \n",
    "                                                               + sigma * np.sqrt(dT) * np.random.normal(0,1))\n",
    "    \n",
    "    # Plot paths\n",
    "    [plt.plot(paths[:,i], linewidth=2, color='black') for i in range(numPaths)]\n",
    "    # plot horizontal line of barrier\n",
    "    plt.plot([Sb]*numSteps)\n",
    "    plt.title('Monte Carlo pricing procedure')\n",
    "    plt.xlabel('Time')\n",
    "    plt.ylabel('Price of underlying')\n",
    "    \n",
    "    return paths "
   ]
  },
  {
   "cell_type": "code",
   "execution_count": 25,
   "metadata": {
    "colab": {
     "base_uri": "https://localhost:8080/",
     "height": 295
    },
    "id": "JCriaygo5C4S",
    "outputId": "92e87bad-0c00-4174-fa21-3fd9fd38f2d0"
   },
   "outputs": [
    {
     "data": {
      "image/png": "[encoded data removed]",
      "text/plain": [
       "<Figure size 432x288 with 1 Axes>"
      ]
     },
     "metadata": {
      "needs_background": "light",
      "tags": []
     },
     "output_type": "display_data"
    }
   ],
   "source": [
    "plot = plot_MC (S0, Sb, K, T, r, mu, sigma, 12, 50000)"
   ]
  },
  {
   "cell_type": "code",
   "execution_count": 23,
   "metadata": {
    "colab": {
     "base_uri": "https://localhost:8080/",
     "height": 295
    },
    "id": "Vhq1bLPj49be",
    "outputId": "198ca40a-9c12-4318-820c-e3d17b06cb05"
   },
   "outputs": [
    {
     "data": {
      "image/png": "[encoded data removed]",
      "text/plain": [
       "<Figure size 432x288 with 1 Axes>"
      ]
     },
     "metadata": {
      "needs_background": "light",
      "tags": []
     },
     "output_type": "display_data"
    }
   ],
   "source": [
    "plot = plot_MC (S0, Sb, K, T, r, mu, sigma, 252, 50000)"
   ]
  },
  {
   "cell_type": "markdown",
   "metadata": {
    "id": "7WPN1bOoMrFC"
   },
   "source": [
    "Compute prices of Barrier options with volatility increased and decreased by 10% from the original inputs. "
   ]
  },
  {
   "cell_type": "code",
   "execution_count": 34,
   "metadata": {
    "colab": {
     "base_uri": "https://localhost:8080/"
    },
    "id": "CepxA1paNExI",
    "outputId": "4650228f-07c1-4988-c6ab-54eafc1ee464"
   },
   "outputs": [
    {
     "name": "stdout",
     "output_type": "stream",
     "text": [
      "one-step MC price of an Barrier call option is 6.9916279108354935\n",
      "one-step MC price of an Barrier put option is 0.0\n"
     ]
    }
   ],
   "source": [
    "# volatility decreased by 10% from the original inputs\n",
    "callMC_Barrier_Knockin_Price_1_step , putMC_Barrier_Knockin_Price_1_step =  MC_barrier_knockin_price(S0, Sb, K, T, r, mu, sigma*0.9, 1, numPaths)\n",
    "print('one-step MC price of an Barrier call option is ' + str(callMC_Barrier_Knockin_Price_1_step)) \n",
    "print('one-step MC price of an Barrier put option is ' + str(putMC_Barrier_Knockin_Price_1_step))  "
   ]
  },
  {
   "cell_type": "code",
   "execution_count": 35,
   "metadata": {
    "colab": {
     "base_uri": "https://localhost:8080/"
    },
    "id": "ggoXwRUIL0lc",
    "outputId": "e9518410-cef6-4926-86bc-8ea6c1694720"
   },
   "outputs": [
    {
     "name": "stdout",
     "output_type": "stream",
     "text": [
      "Multi-step MC price of an Barrier call option is 7.197503817050976\n",
      "Multi-step MC price of an Barrier put option is 1.5604494191326796\n"
     ]
    }
   ],
   "source": [
    "callMC_Barrier_Knockin_Price_multi_step, putMC_Barrier_Knockin_Price_multi_step =  MC_barrier_knockin_price(S0, Sb, K, T, r, mu, sigma*0.9, 252, numPaths)\n",
    "\n",
    "print('Multi-step MC price of an Barrier call option is ' + str(callMC_Barrier_Knockin_Price_multi_step)) \n",
    "print('Multi-step MC price of an Barrier put option is ' + str(putMC_Barrier_Knockin_Price_multi_step))  "
   ]
  },
  {
   "cell_type": "code",
   "execution_count": 31,
   "metadata": {
    "colab": {
     "base_uri": "https://localhost:8080/"
    },
    "id": "wY-k3NWWLrcp",
    "outputId": "9c6f26eb-875e-4678-ed4a-8b65eeccfbc1"
   },
   "outputs": [
    {
     "name": "stdout",
     "output_type": "stream",
     "text": [
      "One-step MC price of an Barrier call option is 8.604730157916816\n",
      "One-step MC price of an Barrier put option is 0.0\n"
     ]
    }
   ],
   "source": [
    "# volatility increased by 10% from the original inputs\n",
    "callMC_Barrier_Knockin_Price_1_step , putMC_Barrier_Knockin_Price_1_step =  MC_barrier_knockin_price(S0, Sb, K, T, r, mu, sigma*1.1, 1, numPaths)\n",
    "print('One-step MC price of an Barrier call option is ' + str(callMC_Barrier_Knockin_Price_1_step)) \n",
    "print('One-step MC price of an Barrier put option is ' + str(putMC_Barrier_Knockin_Price_1_step))  "
   ]
  },
  {
   "cell_type": "code",
   "execution_count": 36,
   "metadata": {
    "colab": {
     "base_uri": "https://localhost:8080/"
    },
    "id": "7Z2CzDkoMdDR",
    "outputId": "8904e69d-8901-48e6-a17e-745ec5a46071"
   },
   "outputs": [
    {
     "name": "stdout",
     "output_type": "stream",
     "text": [
      "\bMulti-step MC price of an Barrier call option is 8.78356903503993\n",
      "Multi-step MC price of an Barrier put option is 2.5056455337024315\n"
     ]
    }
   ],
   "source": [
    "callMC_Barrier_Knockin_Price_multi_step, putMC_Barrier_Knockin_Price_multi_step =  MC_barrier_knockin_price(S0, Sb, K, T, r, mu, sigma*1.1, 252, numPaths)\n",
    "\n",
    "print('\bMulti-step MC price of an Barrier call option is ' + str(callMC_Barrier_Knockin_Price_multi_step)) \n",
    "print('Multi-step MC price of an Barrier put option is ' + str(putMC_Barrier_Knockin_Price_multi_step))  "
   ]
  },
  {
   "cell_type": "markdown",
   "metadata": {
    "id": "6tqTSCp-NVKm"
   },
   "source": [
    "Design your own procedure for choosing a number of time steps and a number of scenarios in Monte Carlo pricing for European option to get the same price (up to the cent) as given by the Black-Scholes formula."
   ]
  },
  {
   "cell_type": "code",
   "execution_count": 59,
   "metadata": {
    "id": "XYV35jCK8Dlu"
   },
   "outputs": [],
   "source": [
    "numSteps_list = [1, 2, 12, 24, 252]\n",
    "\n",
    "c1_list = []\n",
    "p1_list = []\n",
    "\n",
    "for i in numSteps_list:\n",
    "    c, p = MC_european_price(S0, K, T, r, mu, sigma, i, 100000)\n",
    "    c1_list.append(c)\n",
    "    p1_list.append(p)   "
   ]
  },
  {
   "cell_type": "code",
   "execution_count": 60,
   "metadata": {
    "colab": {
     "base_uri": "https://localhost:8080/",
     "height": 295
    },
    "id": "xRfbtdrM8Dlv",
    "outputId": "0e9871e0-f1a7-4919-81a9-370324a0eb15"
   },
   "outputs": [
    {
     "data": {
      "image/png": "[encoded data removed]",
      "text/plain": [
       "<Figure size 432x288 with 1 Axes>"
      ]
     },
     "metadata": {
      "needs_background": "light",
      "tags": []
     },
     "output_type": "display_data"
    }
   ],
   "source": [
    "plt.plot(numSteps_list, c1_list, '-o', label='call')\n",
    "plt.plot(numSteps_list, p1_list, '-o', label='put')\n",
    "\n",
    "plt.plot(numSteps_list, [call_BS_European_Price]* len(numSteps_list), label='callBS')\n",
    "plt.plot(numSteps_list, [putBS_European_Price]* len(numSteps_list), label='putBS')\n",
    "\n",
    "plt.title('European Option Pricing (numPaths = 100000)')\n",
    "plt.xlabel('numSteps')\n",
    "plt.ylabel('Option Price')\n",
    "plt.legend()\n",
    "plt.show()"
   ]
  },
  {
   "cell_type": "code",
   "execution_count": 96,
   "metadata": {
    "colab": {
     "base_uri": "https://localhost:8080/"
    },
    "id": "FnWHfqLAbdoZ",
    "outputId": "69eb2826-3607-4fe7-e9dc-6c4ba751fb3e"
   },
   "outputs": [
    {
     "name": "stdout",
     "output_type": "stream",
     "text": [
      "When numSterps = 12\n",
      "MC pricing for European call =  8.02\n",
      "Black-Scholes price of an European call option =  8.02\n"
     ]
    }
   ],
   "source": [
    "# Monte Carlo pricing for European call option\n",
    "for i in np.arange(12,24):\n",
    "    c,_ = MC_european_price(S0, K, T, r, mu, sigma, i, 100000)\n",
    "    if c.round(2) == call_BS_European_Price.round(2):\n",
    "      print ('When numSterps =', i)\n",
    "      print ('MC pricing for European call = ', c.round(2))\n",
    "      print ('Black-Scholes price of an European call option = ', call_BS_European_Price.round(2))\n",
    "      break"
   ]
  },
  {
   "cell_type": "code",
   "execution_count": 97,
   "metadata": {
    "colab": {
     "base_uri": "https://localhost:8080/"
    },
    "id": "q_0XjQlmqHUO",
    "outputId": "f83d6bc4-6c6b-4297-e3ed-34bf134e65ab"
   },
   "outputs": [
    {
     "name": "stdout",
     "output_type": "stream",
     "text": [
      "When numSterps = 19\n",
      "MC pricing for European put =  7.9\n",
      "Black-Scholes price of an European put option =  7.9\n"
     ]
    }
   ],
   "source": [
    "# Monte Carlo pricing for European put option\n",
    "for i in np.arange(12,24):\n",
    "    _,p = MC_european_price(S0, K, T, r, mu, sigma, i, 100000)\n",
    "    if p.round(2) == putBS_European_Price.round(2):\n",
    "      print ('When numSterps =', i)\n",
    "      print ('MC pricing for European put = ', p.round(2))\n",
    "      print ('Black-Scholes price of an European put option = ', putBS_European_Price.round(2))\n",
    "      break"
   ]
  },
  {
   "cell_type": "code",
   "execution_count": null,
   "metadata": {
    "id": "XAYdrStNyeV8"
   },
   "outputs": [],
   "source": [
    ""
   ]
  }
 ],
 "metadata": {
  "colab": {
   "collapsed_sections": [],
   "name": "zhu_1000011079_assignment4.ipynb",
   "provenance": []
  },
  "kernelspec": {
   "display_name": "Python 3",
   "language": "python",
   "name": "python3"
  },
  "language_info": {
   "codemirror_mode": {
    "name": "ipython",
    "version": 3
   },
   "file_extension": ".py",
   "mimetype": "text/x-python",
   "name": "python",
   "nbconvert_exporter": "python",
   "pygments_lexer": "ipython3",
   "version": "3.8.5"
  }
 },
 "nbformat": 4,
 "nbformat_minor": 0
}
